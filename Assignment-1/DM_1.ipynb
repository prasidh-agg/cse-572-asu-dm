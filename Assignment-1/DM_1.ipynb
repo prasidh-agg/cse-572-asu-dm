{
  "nbformat": 4,
  "nbformat_minor": 0,
  "metadata": {
    "colab": {
      "provenance": []
    },
    "kernelspec": {
      "name": "python3",
      "display_name": "Python 3"
    },
    "language_info": {
      "name": "python"
    }
  },
  "cells": [
    {
      "cell_type": "code",
      "source": [
        "import pandas as pd\n",
        "import numpy as np"
      ],
      "metadata": {
        "id": "FTADsffquDWS"
      },
      "execution_count": 186,
      "outputs": []
    },
    {
      "cell_type": "code",
      "source": [
        "#Read the Datasets\n",
        "cgm_data=pd.read_csv('/content/dm/CGMData.csv',low_memory=False,usecols=['Date','Time','Sensor Glucose (mg/dL)'])\n",
        "insulin_data=pd.read_csv('/content/dm/InsulinData.csv',low_memory=False)"
      ],
      "metadata": {
        "id": "VbdjeLO_uHTk"
      },
      "execution_count": 187,
      "outputs": []
    },
    {
      "cell_type": "code",
      "source": [
        "#Combine date and time to make a dateTimeStamp column\n",
        "cgm_data['date_time_stamp']=pd.to_datetime(cgm_data['Date'] + ' ' + cgm_data['Time'])\n",
        "insulin_data['date_time_stamp']=pd.to_datetime(insulin_data['Date'] + ' ' + insulin_data['Time'])\n"
      ],
      "metadata": {
        "id": "gvc9v86S9syx"
      },
      "execution_count": 188,
      "outputs": []
    },
    {
      "cell_type": "code",
      "source": [
        "#Find the data corresponding to the auto modes and the manual modes using the alarms\n",
        "#from the insulin data\n",
        "\n",
        "auto_mode_begin=insulin_data.sort_values(by='date_time_stamp', ascending=True).loc[insulin_data['Alarm']=='AUTO MODE ACTIVE PLGM OFF'].iloc[0]['date_time_stamp']\n",
        "auto_mode_data=cgm_data.sort_values(by='date_time_stamp', ascending=True).loc[cgm_data['date_time_stamp']>=auto_mode_begin]\n",
        "manual_mode_data=cgm_data.sort_values(by='date_time_stamp', ascending=True).loc[cgm_data['date_time_stamp']<auto_mode_begin]"
      ],
      "metadata": {
        "id": "xEaOQKREAQI8"
      },
      "execution_count": 191,
      "outputs": []
    },
    {
      "cell_type": "code",
      "source": [
        "#Create a copy of the auto mode data and index it using date_time_stamp\n",
        "auto_mode_data_date_index=auto_mode_data.copy()\n",
        "auto_mode_data_date_index=auto_mode_data_date_index.set_index('date_time_stamp')"
      ],
      "metadata": {
        "id": "E3Me80Z3B_6A"
      },
      "execution_count": 194,
      "outputs": []
    },
    {
      "cell_type": "code",
      "source": [
        "#Create a copy of the manual mode data and index it using date_time_stamp\n",
        "manual_mode_data_date_index=manual_mode_data.copy()\n",
        "manual_mode_data_date_index=manual_mode_data_date_index.set_index('date_time_stamp')"
      ],
      "metadata": {
        "id": "FhDiIIuILu0i"
      },
      "execution_count": 195,
      "outputs": []
    },
    {
      "cell_type": "code",
      "source": [
        "#Filter the groups where the count is greater than 0.8 * 288\n",
        "#Drop missing values, extract the date index \n",
        "#Convert it to a Python list, which is stored in the glucose_data variable.\n",
        "\n",
        "auto_glucose_data=auto_mode_data_date_index.groupby('Date')['Sensor Glucose (mg/dL)'].count().where(lambda x:x>int(0.8*288)).dropna().index.tolist()\n",
        "#print(auto_glucose_data)\n",
        "\n",
        "manual_glucose_data=manual_mode_data_date_index.groupby('Date')['Sensor Glucose (mg/dL)'].count().where(lambda x:x>int(0.8*288)).dropna().index.tolist()\n",
        "#print(manual_glucose_data)"
      ],
      "metadata": {
        "colab": {
          "base_uri": "https://localhost:8080/"
        },
        "id": "xPYiKv4-CKKP",
        "outputId": "bb42cc05-40b4-493d-8545-3c48d5d7ff14"
      },
      "execution_count": 196,
      "outputs": [
        {
          "output_type": "stream",
          "name": "stdout",
          "text": [
            "152\n"
          ]
        }
      ]
    },
    {
      "cell_type": "code",
      "source": [
        "#Filter the data frame based on the values of the date column present in the glucose data\n",
        "auto_mode_data_date_index=auto_mode_data_date_index.loc[auto_mode_data_date_index['Date'].isin(auto_glucose_data)]\n",
        "#print(auto_mode_data_date_index)\n",
        "\n",
        "manual_mode_data_date_index=manual_mode_data_date_index.loc[manual_mode_data_date_index['Date'].isin(manual_glucose_data)]\n",
        "#print(manual_mode_data_date_index)"
      ],
      "metadata": {
        "id": "ZXQf6PskGYPs"
      },
      "execution_count": 197,
      "outputs": []
    },
    {
      "cell_type": "markdown",
      "source": [
        "##HyperGlycemia (>180mg/dL) - wholeDay, dayTime, overNight"
      ],
      "metadata": {
        "id": "UiYulxMvHAqG"
      }
    },
    {
      "cell_type": "code",
      "source": [
        "#Calculate the percentage of time in a day that the patient's glucose levels were in hyperglycemia.\n",
        "\n",
        "percent_time_hyper_wholeday_auto=(auto_mode_data_date_index.between_time('0:00:00','23:59:59').loc[auto_mode_data_date_index['Sensor Glucose (mg/dL)']>180].groupby('Date')['Sensor Glucose (mg/dL)'].count()/288*100)\n",
        "#print(percent_time_hyper_wholeday_auto)\n",
        "\n",
        "percent_time_hyper_daytime_auto=(auto_mode_data_date_index.between_time('6:00:00','23:59:59').loc[auto_mode_data_date_index['Sensor Glucose (mg/dL)']>180].groupby('Date')['Sensor Glucose (mg/dL)'].count()/288*100)\n",
        "#print(percent_time_hyper_daytime_auto)\n",
        "\n",
        "percent_time_hyper_overnight_auto=(auto_mode_data_date_index.between_time('0:00:00','5:59:59').loc[auto_mode_data_date_index['Sensor Glucose (mg/dL)']>180].groupby('Date')['Sensor Glucose (mg/dL)'].count()/288*100)\n",
        "#print(percent_time_hyper_overnight_auto)\n",
        "\n",
        "percent_time_hyper_wholeday_manual=(manual_mode_data_date_index.between_time('0:00:00','23:59:59').loc[manual_mode_data_date_index['Sensor Glucose (mg/dL)']>180].groupby('Date')['Sensor Glucose (mg/dL)'].count()/288*100)\n",
        "print(percent_time_hyper_wholeday_manual)\n",
        "\n",
        "percent_time_hyper_daytime_manual=(manual_mode_data_date_index.between_time('6:00:00','23:59:59').loc[manual_mode_data_date_index['Sensor Glucose (mg/dL)']>180].groupby('Date')['Sensor Glucose (mg/dL)'].count()/288*100)\n",
        "print(percent_time_hyper_daytime_manual)\n",
        "\n",
        "percent_time_hyper_overnight_manual=(manual_mode_data_date_index.between_time('0:00:00','5:59:59').loc[manual_mode_data_date_index['Sensor Glucose (mg/dL)']>180].groupby('Date')['Sensor Glucose (mg/dL)'].count()/288*100)\n",
        "print(percent_time_hyper_overnight_manual)"
      ],
      "metadata": {
        "id": "cPp3wEuvGz3f"
      },
      "execution_count": null,
      "outputs": []
    },
    {
      "cell_type": "markdown",
      "source": [
        "##HyperGlycemia Critical(>250mg/dL) - wholeDay, dayTime, overNight"
      ],
      "metadata": {
        "id": "Ysyj6p13Ivl-"
      }
    },
    {
      "cell_type": "code",
      "source": [
        "#Calculate the percentage of time in a day that the patient's glucose levels were in critical hyperglycemia.\n",
        "\n",
        "percent_time_hyper_critical_wholeday_auto=(auto_mode_data_date_index.between_time('0:00:00','23:59:59').loc[auto_mode_data_date_index['Sensor Glucose (mg/dL)']>250].groupby('Date')['Sensor Glucose (mg/dL)'].count()/288*100)\n",
        "#print(percent_time_hyper_critical_wholeday_auto)\n",
        "\n",
        "percent_time_hyper_critical_daytime_auto=(auto_mode_data_date_index.between_time('6:00:00','23:59:59').loc[auto_mode_data_date_index['Sensor Glucose (mg/dL)']>250].groupby('Date')['Sensor Glucose (mg/dL)'].count()/288*100)\n",
        "#print(percent_time_hyper_critical_daytime_auto)\n",
        "\n",
        "percent_time_hyper_critical_overnight_auto=(auto_mode_data_date_index.between_time('0:00:00','5:59:59').loc[auto_mode_data_date_index['Sensor Glucose (mg/dL)']>250].groupby('Date')['Sensor Glucose (mg/dL)'].count()/288*100)\n",
        "#print(percent_time_hyper_critical_overnight_auto)\n",
        "\n",
        "percent_time_hyper_critical_wholeday_manual=(manual_mode_data_date_index.between_time('0:00:00','23:59:59').loc[manual_mode_data_date_index['Sensor Glucose (mg/dL)']>250].groupby('Date')['Sensor Glucose (mg/dL)'].count()/288*100)\n",
        "#print(percent_time_hyper_critical_wholeday_manual)\n",
        "\n",
        "percent_time_hyper_critical_daytime_manual=(manual_mode_data_date_index.between_time('6:00:00','23:59:59').loc[manual_mode_data_date_index['Sensor Glucose (mg/dL)']>250].groupby('Date')['Sensor Glucose (mg/dL)'].count()/288*100)\n",
        "#print(percent_time_hyper_critical_daytime_manual)\n",
        "\n",
        "percent_time_hyper_critical_overnight_manual=(manual_mode_data_date_index.between_time('0:00:00','5:59:59').loc[manual_mode_data_date_index['Sensor Glucose (mg/dL)']>250].groupby('Date')['Sensor Glucose (mg/dL)'].count()/288*100)\n",
        "#print(percent_time_hyper_critical_overnight_manual)"
      ],
      "metadata": {
        "id": "-cEuoP5WHURt"
      },
      "execution_count": 199,
      "outputs": []
    },
    {
      "cell_type": "markdown",
      "source": [
        "##Range (>= 70mg/dL and <= 180mg/dL) - wholeDay, dayTime, overNight"
      ],
      "metadata": {
        "id": "z09SjN_OJMFA"
      }
    },
    {
      "cell_type": "code",
      "source": [
        "#Calculate the percentage of time in a day that the patient's glucose levels were between 70 and 180mg/dL.\n",
        "\n",
        "percent_time_range_wholeday_auto=(auto_mode_data_date_index.between_time('0:00:00','23:59:59').loc[(auto_mode_data_date_index['Sensor Glucose (mg/dL)']>=70) & (auto_mode_data_date_index['Sensor Glucose (mg/dL)']<=180)].groupby('Date')['Sensor Glucose (mg/dL)'].count()/288*100)\n",
        "#print(percent_time_range_wholeday_auto)\n",
        "\n",
        "percent_time_range_daytime_auto=(auto_mode_data_date_index.between_time('6:00:00','23:59:59').loc[(auto_mode_data_date_index['Sensor Glucose (mg/dL)']>=70) & (auto_mode_data_date_index['Sensor Glucose (mg/dL)']<=180)].groupby('Date')['Sensor Glucose (mg/dL)'].count()/288*100)\n",
        "#print(percent_time_range_daytime_auto)\n",
        "\n",
        "percent_time_range_overnight_auto=(auto_mode_data_date_index.between_time('0:00:00','5:59:59').loc[(auto_mode_data_date_index['Sensor Glucose (mg/dL)']>=70) & (auto_mode_data_date_index['Sensor Glucose (mg/dL)']<=180)].groupby('Date')['Sensor Glucose (mg/dL)'].count()/288*100)\n",
        "#print(percent_time_range_overnight_auto)\n",
        "\n",
        "percent_time_range_wholeday_manual=(manual_mode_data_date_index.between_time('0:00:00','23:59:59').loc[(manual_mode_data_date_index['Sensor Glucose (mg/dL)']>=70) & (manual_mode_data_date_index['Sensor Glucose (mg/dL)']<=180)].groupby('Date')['Sensor Glucose (mg/dL)'].count()/288*100)\n",
        "#print(percent_time_range_wholeday_manual)\n",
        "\n",
        "percent_time_range_daytime_manual=(manual_mode_data_date_index.between_time('6:00:00','23:59:59').loc[(manual_mode_data_date_index['Sensor Glucose (mg/dL)']>=70) & (manual_mode_data_date_index['Sensor Glucose (mg/dL)']<=180)].groupby('Date')['Sensor Glucose (mg/dL)'].count()/288*100)\n",
        "#print(percent_time_range_daytime_manual)\n",
        "\n",
        "percent_time_range_overnight_manual=(manual_mode_data_date_index.between_time('0:00:00','5:59:59').loc[(manual_mode_data_date_index['Sensor Glucose (mg/dL)']>=70) & (manual_mode_data_date_index['Sensor Glucose (mg/dL)']<=180)].groupby('Date')['Sensor Glucose (mg/dL)'].count()/288*100)\n",
        "#print(percent_time_range_overnight_manual)\n"
      ],
      "metadata": {
        "id": "isuTXJfoJY1O"
      },
      "execution_count": 200,
      "outputs": []
    },
    {
      "cell_type": "markdown",
      "source": [
        "##Range Secondary (>= 70mg/dL and <= 150/dL) - wholeDay, dayTime, overNight"
      ],
      "metadata": {
        "id": "xolbiWnwJ8yG"
      }
    },
    {
      "cell_type": "code",
      "source": [
        "#Calculate the percentage of time in a day that the patient's glucose levels were between 70 and 150mg/dL.\n",
        "\n",
        "percent_time_range_sec_wholeday_auto=(auto_mode_data_date_index.between_time('0:00:00','23:59:59').loc[(auto_mode_data_date_index['Sensor Glucose (mg/dL)']>=70) & (auto_mode_data_date_index['Sensor Glucose (mg/dL)']<=150)].groupby('Date')['Sensor Glucose (mg/dL)'].count()/288*100)\n",
        "#print(percent_time_range_sec_wholeday_auto)\n",
        "\n",
        "percent_time_range_sec_daytime_auto=(auto_mode_data_date_index.between_time('6:00:00','23:59:59').loc[(auto_mode_data_date_index['Sensor Glucose (mg/dL)']>=70) & (auto_mode_data_date_index['Sensor Glucose (mg/dL)']<=150)].groupby('Date')['Sensor Glucose (mg/dL)'].count()/288*100)\n",
        "#print(percent_time_range_sec_daytime_auto)\n",
        "\n",
        "percent_time_range_sec_overnight_auto=(auto_mode_data_date_index.between_time('0:00:00','5:59:59').loc[(auto_mode_data_date_index['Sensor Glucose (mg/dL)']>=70) & (auto_mode_data_date_index['Sensor Glucose (mg/dL)']<=150)].groupby('Date')['Sensor Glucose (mg/dL)'].count()/288*100)\n",
        "#print(percent_time_range_sec_overnight_auto)\n",
        "\n",
        "percent_time_range_sec_wholeday_manual=(manual_mode_data_date_index.between_time('0:00:00','23:59:59').loc[(manual_mode_data_date_index['Sensor Glucose (mg/dL)']>=70) & (manual_mode_data_date_index['Sensor Glucose (mg/dL)']<=150)].groupby('Date')['Sensor Glucose (mg/dL)'].count()/288*100)\n",
        "#print(percent_time_range_sec_wholeday_manual)\n",
        "\n",
        "percent_time_range_sec_daytime_manual=(manual_mode_data_date_index.between_time('6:00:00','23:59:59').loc[(manual_mode_data_date_index['Sensor Glucose (mg/dL)']>=70) & (manual_mode_data_date_index['Sensor Glucose (mg/dL)']<=150)].groupby('Date')['Sensor Glucose (mg/dL)'].count()/288*100)\n",
        "#print(percent_time_range_sec_daytime_manual)\n",
        "\n",
        "percent_time_range_sec_overnight_manual=(manual_mode_data_date_index.between_time('0:00:00','5:59:59').loc[(manual_mode_data_date_index['Sensor Glucose (mg/dL)']>=70) & (manual_mode_data_date_index['Sensor Glucose (mg/dL)']<=150)].groupby('Date')['Sensor Glucose (mg/dL)'].count()/288*100)\n",
        "#print(percent_time_range_sec_overnight_manual)"
      ],
      "metadata": {
        "id": "43yK2wLSKAe1"
      },
      "execution_count": 201,
      "outputs": []
    },
    {
      "cell_type": "markdown",
      "source": [
        "##HypoGlycemia level 1(<70mg/dL) - wholeDay, dayTime, overNight"
      ],
      "metadata": {
        "id": "3_DzdmWwKs33"
      }
    },
    {
      "cell_type": "code",
      "source": [
        "#Calculate the percentage of time in a day that the patient's glucose levels were in hypoglycemia level 1.\n",
        "\n",
        "percent_time_hypo1_wholeday_auto=(auto_mode_data_date_index.between_time('0:00:00','23:59:59').loc[auto_mode_data_date_index['Sensor Glucose (mg/dL)']<70].groupby('Date')['Sensor Glucose (mg/dL)'].count()/288*100)\n",
        "#print(percent_time_hypo1_wholeday_auto)\n",
        "\n",
        "percent_time_hypo1_daytime_auto=(auto_mode_data_date_index.between_time('6:00:00','23:59:59').loc[auto_mode_data_date_index['Sensor Glucose (mg/dL)']<70].groupby('Date')['Sensor Glucose (mg/dL)'].count()/288*100)\n",
        "#print(percent_time_hypo1_daytime_auto)\n",
        "\n",
        "percent_time_hypo1_overnight_auto=(auto_mode_data_date_index.between_time('0:00:00','5:59:59').loc[auto_mode_data_date_index['Sensor Glucose (mg/dL)']<70].groupby('Date')['Sensor Glucose (mg/dL)'].count()/288*100)\n",
        "#print(percent_time_hypo1_overnight_auto)\n",
        "\n",
        "percent_time_hypo1_wholeday_manual=(manual_mode_data_date_index.between_time('0:00:00','23:59:59').loc[manual_mode_data_date_index['Sensor Glucose (mg/dL)']<70].groupby('Date')['Sensor Glucose (mg/dL)'].count()/288*100)\n",
        "#print(percent_time_hypo1_wholeday_manual)\n",
        "\n",
        "percent_time_hypo1_daytime_manual=(manual_mode_data_date_index.between_time('6:00:00','23:59:59').loc[manual_mode_data_date_index['Sensor Glucose (mg/dL)']<70].groupby('Date')['Sensor Glucose (mg/dL)'].count()/288*100)\n",
        "#print(percent_time_hypo1_daytime_manual)\n",
        "\n",
        "percent_time_hypo1_overnight_manual=(manual_mode_data_date_index.between_time('0:00:00','5:59:59').loc[manual_mode_data_date_index['Sensor Glucose (mg/dL)']<70].groupby('Date')['Sensor Glucose (mg/dL)'].count()/288*100)\n",
        "#print(percent_time_hypo1_overnight_manual)"
      ],
      "metadata": {
        "id": "y8Zs2_-kK14n"
      },
      "execution_count": 202,
      "outputs": []
    },
    {
      "cell_type": "markdown",
      "source": [
        "##HypoGlycemia level 2(<54mg/dL) - wholeDay, dayTime, overNight"
      ],
      "metadata": {
        "id": "Y-LtuqeFLQ9k"
      }
    },
    {
      "cell_type": "code",
      "source": [
        "#Calculate the percentage of time in a day that the patient's glucose levels were in hypoglycemia level 2.\n",
        "\n",
        "percent_time_hypo2_wholeday_auto=(auto_mode_data_date_index.between_time('0:00:00','23:59:59').loc[auto_mode_data_date_index['Sensor Glucose (mg/dL)']<54].groupby('Date')['Sensor Glucose (mg/dL)'].count()/288*100)\n",
        "#print(percent_time_hypo2_wholeday_auto)\n",
        "\n",
        "percent_time_hypo2_daytime_auto=(auto_mode_data_date_index.between_time('6:00:00','23:59:59').loc[auto_mode_data_date_index['Sensor Glucose (mg/dL)']<54].groupby('Date')['Sensor Glucose (mg/dL)'].count()/288*100)\n",
        "#print(percent_time_hypo2_daytime_auto)\n",
        "\n",
        "percent_time_hypo2_overnight_auto=(auto_mode_data_date_index.between_time('0:00:00','5:59:59').loc[auto_mode_data_date_index['Sensor Glucose (mg/dL)']<54].groupby('Date')['Sensor Glucose (mg/dL)'].count()/288*100)\n",
        "#print(percent_time_hypo2_overnight_auto)\n",
        "\n",
        "percent_time_hypo2_wholeday_manual=(manual_mode_data_date_index.between_time('0:00:00','23:59:59').loc[manual_mode_data_date_index['Sensor Glucose (mg/dL)']<54].groupby('Date')['Sensor Glucose (mg/dL)'].count()/288*100)\n",
        "#print(percent_time_hypo2_wholeday_manual)\n",
        "\n",
        "percent_time_hypo2_daytime_manual=(manual_mode_data_date_index.between_time('6:00:00','23:59:59').loc[manual_mode_data_date_index['Sensor Glucose (mg/dL)']<54].groupby('Date')['Sensor Glucose (mg/dL)'].count()/288*100)\n",
        "#print(percent_time_hypo2_daytime_manual)\n",
        "\n",
        "percent_time_hypo2_overnight_manual=(manual_mode_data_date_index.between_time('0:00:00','5:59:59').loc[manual_mode_data_date_index['Sensor Glucose (mg/dL)']<54].groupby('Date')['Sensor Glucose (mg/dL)'].count()/288*100)\n",
        "#print(percent_time_hypo2_overnight_manual)"
      ],
      "metadata": {
        "id": "sFNc6Z2lLQrK"
      },
      "execution_count": 203,
      "outputs": []
    },
    {
      "cell_type": "code",
      "source": [
        "results=pd.DataFrame(\n",
        "    {\n",
        "        'percent_time_hyper_overnight':[ percent_time_hyper_overnight_manual.mean(axis=0),percent_time_hyper_overnight_auto.mean(axis=0)],\n",
        "        'percent_time_hyper_critical_overnight':[ percent_time_hyper_critical_overnight_manual.mean(axis=0),percent_time_hyper_critical_overnight_auto.mean(axis=0)],\n",
        "        'percent_time_range_overnight':[ percent_time_range_overnight_manual.mean(axis=0),percent_time_range_overnight_auto.mean(axis=0)],\n",
        "        'percent_time_range_sec_overnight':[ percent_time_range_sec_overnight_manual.mean(axis=0),percent_time_range_sec_overnight_auto.mean(axis=0)],\n",
        "        'percent_time_hypo1_overnight':[ percent_time_hypo1_overnight_manual.mean(axis=0),percent_time_hypo1_overnight_auto.mean(axis=0)],\n",
        "        'percent_time_hypo2_overnight':[ np.nan_to_num(percent_time_hypo2_overnight_manual.mean(axis=0)),percent_time_hypo2_overnight_auto.mean(axis=0)],         \n",
        "        'percent_time_hyper_daytime':[ percent_time_hyper_daytime_manual.mean(axis=0),percent_time_hyper_daytime_auto.mean(axis=0)],\n",
        "        'percent_time_hyper_critical_daytime':[ percent_time_hyper_critical_daytime_manual.mean(axis=0),percent_time_hyper_critical_daytime_auto.mean(axis=0)],\n",
        "        'percent_time_range_daytime':[ percent_time_range_daytime_manual.mean(axis=0),percent_time_range_daytime_auto.mean(axis=0)],\n",
        "        'percent_time_range_sec_daytime':[ percent_time_range_sec_daytime_manual.mean(axis=0),percent_time_range_sec_daytime_auto.mean(axis=0)],\n",
        "        'percent_time_hypo1_daytime':[ percent_time_hypo1_daytime_manual.mean(axis=0),percent_time_hypo1_daytime_auto.mean(axis=0)],\n",
        "        'percent_time_hypo2_daytime':[ percent_time_hypo2_daytime_manual.mean(axis=0),percent_time_hypo2_daytime_auto.mean(axis=0)],\n",
        "        'percent_time_hyper_wholeday':[ percent_time_hyper_wholeday_manual.mean(axis=0),percent_time_hyper_wholeday_auto.mean(axis=0)],\n",
        "        'percent_time_hyper_critical_wholeday':[ percent_time_hyper_critical_wholeday_manual.mean(axis=0),percent_time_hyper_critical_wholeday_auto.mean(axis=0)],\n",
        "        'percent_time_range_wholeday':[ percent_time_range_wholeday_manual.mean(axis=0),percent_time_range_wholeday_auto.mean(axis=0)],\n",
        "        'percent_time_range_sec_wholeday':[ percent_time_range_sec_wholeday_manual.mean(axis=0),percent_time_range_sec_wholeday_auto.mean(axis=0)],\n",
        "        'percent_time_hypo1_wholeday':[ percent_time_hypo1_wholeday_manual.mean(axis=0),percent_time_hypo1_wholeday_auto.mean(axis=0)],\n",
        "        'percent_time_hypo2_wholeday':[ percent_time_hypo2_wholeday_manual.mean(axis=0),percent_time_hypo2_wholeday_auto.mean(axis=0)]\n",
        "    }, index=['manual_mode','auto_mode']\n",
        ")"
      ],
      "metadata": {
        "id": "8SSraGbAPXFH"
      },
      "execution_count": 204,
      "outputs": []
    },
    {
      "cell_type": "code",
      "source": [
        "results.to_csv('/content/dm/Results.csv',header=False,index=False)"
      ],
      "metadata": {
        "id": "njEH18PMR5pM"
      },
      "execution_count": 205,
      "outputs": []
    }
  ]
}